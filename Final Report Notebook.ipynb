{
    "cells": [
        {
            "cell_type": "markdown",
            "metadata": {
                "collapsed": true
            },
            "source": "# Finding locations in Kauai for a State Farm Dealership\n## Final Report for Coursera IBM Applied Data Science Capstone\n## *Charles Vuono*"
        },
        {
            "cell_type": "markdown",
            "metadata": {},
            "source": "### Introduction / Business Problem\nState Farm Insurance is a national chain of independently owned insurance dealerships who contract with State Farm for the right to establish a dealership which will exclusively sell State Farm insurance products from a retail location. Currently, the island of Kauai, Hawaii has no State Farm dealerships. Supposing that we are interested in opening a State Farm dealership on Kauai, the purpsose of this investigation is to understand the characteristics of locations that currently support State Farm Dealerships (elsewhere in Hawaii or on the US Mainland) and compare them with various areas of Kauai to determine suitable candidates to establish a State Farm dealership. We will study existing State Farm Dealership locations through a variety of descriptive and predictive analytic techniques on neighborhood data, and use these results to find similar Kauai neighborhoods.\n\n### Data\nWe will use two primary data sources to conduct our investigation:\n1. Location data on every existing State Farm dealership in the United States, including longitude, latitude and full address (approximately 19,000 records)\n2. Neighborhood data from the FourSquare Developer API regarding the types of commercial establishments in proximity to these dealerships.\n\nWe shall now load the State Farm data:\n\n"
        },
        {
            "cell_type": "code",
            "execution_count": 14,
            "metadata": {},
            "outputs": [
                {
                    "name": "stdout",
                    "output_type": "stream",
                    "text": "The State Farm data consists of 18876 rows and 18 columns.\nA sample of the data is as follows:\n"
                },
                {
                    "data": {
                        "text/html": "<div>\n<style scoped>\n    .dataframe tbody tr th:only-of-type {\n        vertical-align: middle;\n    }\n\n    .dataframe tbody tr th {\n        vertical-align: top;\n    }\n\n    .dataframe thead th {\n        text-align: right;\n    }\n</style>\n<table border=\"1\" class=\"dataframe\">\n  <thead>\n    <tr style=\"text-align: right;\">\n      <th></th>\n      <th>latitude</th>\n      <th>longitude</th>\n      <th>address1</th>\n      <th>address2</th>\n      <th>Annuities</th>\n      <th>Auto Insurance</th>\n      <th>Banking Products</th>\n      <th>Business Insurance</th>\n      <th>city</th>\n      <th>Health Insurance</th>\n      <th>Home Insurance</th>\n      <th>Home Lending</th>\n      <th>Life Insurance</th>\n      <th>Mutual Funds</th>\n      <th>phone</th>\n      <th>Property Insurance</th>\n      <th>state</th>\n      <th>zip</th>\n    </tr>\n  </thead>\n  <tbody>\n    <tr>\n      <th>0</th>\n      <td>42.885943</td>\n      <td>-77.280766</td>\n      <td>7 Coy St</td>\n      <td>NaN</td>\n      <td>1.0</td>\n      <td>1.0</td>\n      <td>1.0</td>\n      <td>1.0</td>\n      <td>Canandaigua</td>\n      <td>1.0</td>\n      <td>1.0</td>\n      <td>NaN</td>\n      <td>1.0</td>\n      <td>1.0</td>\n      <td>5853946840</td>\n      <td>1.0</td>\n      <td>NY</td>\n      <td>14424-1506</td>\n    </tr>\n    <tr>\n      <th>1</th>\n      <td>45.863906</td>\n      <td>-95.373885</td>\n      <td>2633 Jefferson St Suite 803b</td>\n      <td>NaN</td>\n      <td>1.0</td>\n      <td>1.0</td>\n      <td>1.0</td>\n      <td>1.0</td>\n      <td>Alexandria</td>\n      <td>1.0</td>\n      <td>1.0</td>\n      <td>NaN</td>\n      <td>1.0</td>\n      <td>NaN</td>\n      <td>3207622394</td>\n      <td>1.0</td>\n      <td>MN</td>\n      <td>56308</td>\n    </tr>\n    <tr>\n      <th>2</th>\n      <td>41.051858</td>\n      <td>-76.220358</td>\n      <td>504 3rd Street</td>\n      <td>PO Box 502</td>\n      <td>1.0</td>\n      <td>1.0</td>\n      <td>1.0</td>\n      <td>1.0</td>\n      <td>Nescopeck</td>\n      <td>1.0</td>\n      <td>1.0</td>\n      <td>NaN</td>\n      <td>1.0</td>\n      <td>NaN</td>\n      <td>5707521191</td>\n      <td>1.0</td>\n      <td>PA</td>\n      <td>18635-0502</td>\n    </tr>\n    <tr>\n      <th>3</th>\n      <td>41.140139</td>\n      <td>-112.037307</td>\n      <td>928 W 1800 N Suite H</td>\n      <td>NaN</td>\n      <td>1.0</td>\n      <td>1.0</td>\n      <td>NaN</td>\n      <td>1.0</td>\n      <td>Clinton</td>\n      <td>1.0</td>\n      <td>1.0</td>\n      <td>NaN</td>\n      <td>1.0</td>\n      <td>NaN</td>\n      <td>8017792000</td>\n      <td>1.0</td>\n      <td>UT</td>\n      <td>84015-6608</td>\n    </tr>\n    <tr>\n      <th>4</th>\n      <td>38.475771</td>\n      <td>-81.079581</td>\n      <td>2279 Main Street</td>\n      <td>NaN</td>\n      <td>1.0</td>\n      <td>1.0</td>\n      <td>1.0</td>\n      <td>1.0</td>\n      <td>Clay</td>\n      <td>1.0</td>\n      <td>1.0</td>\n      <td>NaN</td>\n      <td>1.0</td>\n      <td>NaN</td>\n      <td>3045872899</td>\n      <td>1.0</td>\n      <td>WV</td>\n      <td>25043-7001</td>\n    </tr>\n  </tbody>\n</table>\n</div>",
                        "text/plain": "    latitude   longitude                      address1    address2  Annuities  \\\n0  42.885943  -77.280766                      7 Coy St         NaN        1.0   \n1  45.863906  -95.373885  2633 Jefferson St Suite 803b         NaN        1.0   \n2  41.051858  -76.220358                504 3rd Street  PO Box 502        1.0   \n3  41.140139 -112.037307          928 W 1800 N Suite H         NaN        1.0   \n4  38.475771  -81.079581              2279 Main Street         NaN        1.0   \n\n   Auto Insurance  Banking Products  Business Insurance         city  \\\n0             1.0               1.0                 1.0  Canandaigua   \n1             1.0               1.0                 1.0   Alexandria   \n2             1.0               1.0                 1.0    Nescopeck   \n3             1.0               NaN                 1.0      Clinton   \n4             1.0               1.0                 1.0         Clay   \n\n   Health Insurance  Home Insurance  Home Lending  Life Insurance  \\\n0               1.0             1.0           NaN             1.0   \n1               1.0             1.0           NaN             1.0   \n2               1.0             1.0           NaN             1.0   \n3               1.0             1.0           NaN             1.0   \n4               1.0             1.0           NaN             1.0   \n\n   Mutual Funds       phone  Property Insurance state         zip  \n0           1.0  5853946840                 1.0    NY  14424-1506  \n1           NaN  3207622394                 1.0    MN       56308  \n2           NaN  5707521191                 1.0    PA  18635-0502  \n3           NaN  8017792000                 1.0    UT  84015-6608  \n4           NaN  3045872899                 1.0    WV  25043-7001  "
                    },
                    "execution_count": 14,
                    "metadata": {},
                    "output_type": "execute_result"
                }
            ],
            "source": "# The code was removed by Watson Studio for sharing."
        },
        {
            "cell_type": "code",
            "execution_count": null,
            "metadata": {},
            "outputs": [],
            "source": ""
        }
    ],
    "metadata": {
        "kernelspec": {
            "display_name": "Python 3.6",
            "language": "python",
            "name": "python3"
        },
        "language_info": {
            "codemirror_mode": {
                "name": "ipython",
                "version": 3
            },
            "file_extension": ".py",
            "mimetype": "text/x-python",
            "name": "python",
            "nbconvert_exporter": "python",
            "pygments_lexer": "ipython3",
            "version": "3.6.9"
        }
    },
    "nbformat": 4,
    "nbformat_minor": 1
}